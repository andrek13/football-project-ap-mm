{
  "nbformat": 4,
  "nbformat_minor": 0,
  "metadata": {
    "colab": {
      "provenance": [],
      "authorship_tag": "ABX9TyNi7Y91kgdZ4Yq7YnRDe5m0",
      "include_colab_link": true
    },
    "kernelspec": {
      "name": "python3",
      "display_name": "Python 3"
    },
    "language_info": {
      "name": "python"
    }
  },
  "cells": [
    {
      "cell_type": "markdown",
      "metadata": {
        "id": "view-in-github",
        "colab_type": "text"
      },
      "source": [
        "<a href=\"https://colab.research.google.com/github/andrek13/football-project-ap-mm/blob/api-test/Data%26Visual_APaMMProject.ipynb\" target=\"_parent\"><img src=\"https://colab.research.google.com/assets/colab-badge.svg\" alt=\"Open In Colab\"/></a>"
      ]
    },
    {
      "cell_type": "markdown",
      "source": [
        "## Imports"
      ],
      "metadata": {
        "id": "l2POUZkw5ZBT"
      }
    },
    {
      "cell_type": "code",
      "execution_count": 3,
      "metadata": {
        "id": "ZNOb-dQ35Q5p"
      },
      "outputs": [],
      "source": [
        "import requests"
      ]
    },
    {
      "cell_type": "markdown",
      "source": [
        "## Variables"
      ],
      "metadata": {
        "id": "VYb2sUapAVBk"
      }
    },
    {
      "cell_type": "code",
      "source": [
        "API = \"ab4c592af7bb6726adecda73bdd4fa42\"\n",
        "base_url = \"https://v3.football.api-sports.io\"\n",
        "\n",
        "headers = {\n",
        "    \"x-apisports-key\": API\n",
        "}"
      ],
      "metadata": {
        "id": "npUreaci_1YJ"
      },
      "execution_count": 15,
      "outputs": []
    },
    {
      "cell_type": "markdown",
      "source": [
        "## Data mining"
      ],
      "metadata": {
        "id": "OdbEjNMEHMYy"
      }
    },
    {
      "cell_type": "code",
      "source": [
        "## DOWLOAD DATA FROM THE API AND SAVE IT AS FILES ON LOCAL MACHINES, ALSO UPLOAD IT TO THE GIT =)"
      ],
      "metadata": {
        "id": "6vCD0IFGHL5u"
      },
      "execution_count": 18,
      "outputs": []
    },
    {
      "cell_type": "code",
      "source": [
        "league_id = 39  # Example: Premier League\n",
        "season = 2023\n",
        "\n",
        "# Step 1: Get all teams in the league for the season\n",
        "teams_url = f\"{base_url}/teams?league={league_id}&season={season}\"\n",
        "teams_response = requests.get(teams_url, headers=headers)\n",
        "teams_data = teams_response.json()\n",
        "\n",
        "teams = teams_data['response']\n",
        "\n",
        "print(teams)\n",
        "\n",
        "total_goals_by_team = {}\n",
        "\n",
        "for team_info in teams:\n",
        "    print(team_info)\n",
        "    team_id = team_info['team']['id']\n",
        "    team_name = team_info['team']['name']\n",
        "\n",
        "    # Step 2: Get all fixtures for this team in the season\n",
        "    fixtures_url = f\"{base_url}/fixtures?team={team_id}&season={season}&league={league_id}\"\n",
        "    fixtures_response = requests.get(fixtures_url, headers=headers)\n",
        "    fixtures_data = fixtures_response.json()\n",
        "\n",
        "    fixtures = fixtures_data['response']\n",
        "\n",
        "    team_goals = 0\n",
        "\n",
        "    # Step 3: For each fixture, get match events to count goals by this team\n",
        "    for fixture_info in fixtures:\n",
        "        fixture_id = fixture_info['fixture']['id']\n",
        "\n",
        "        # Get events for the fixture\n",
        "        events_url = f\"{base_url}/fixtures/events?fixture={fixture_id}\"\n",
        "        events_response = requests.get(events_url, headers=headers)\n",
        "        events_data = events_response.json()\n",
        "\n",
        "        events = events_data['response']\n",
        "\n",
        "        # Count goals for this team\n",
        "        for event in events:\n",
        "            if event['team']['id'] == team_id and event['type'] == 'Goal':\n",
        "                # Optional: Check if goal was not an own goal\n",
        "                if event.get('detail') != 'Own Goal':\n",
        "                    team_goals += 1\n",
        "\n",
        "    total_goals_by_team[team_name] = team_goals\n",
        "\n",
        "# Print total goals per team\n",
        "for team, goals in total_goals_by_team.items():\n",
        "    print(f\"{team}: {goals} goals\")"
      ],
      "metadata": {
        "colab": {
          "base_uri": "https://localhost:8080/"
        },
        "id": "_VLA9ukxAXli",
        "outputId": "9d141d12-0a6e-4cbc-cdb2-d5c666ec9d6d"
      },
      "execution_count": 17,
      "outputs": [
        {
          "output_type": "stream",
          "name": "stdout",
          "text": [
            "[{'team': {'id': 33, 'name': 'Manchester United', 'code': 'MUN', 'country': 'England', 'founded': 1878, 'national': False, 'logo': 'https://media.api-sports.io/football/teams/33.png'}, 'venue': {'id': 556, 'name': 'Old Trafford', 'address': 'Sir Matt Busby Way', 'city': 'Manchester', 'capacity': 76212, 'surface': 'grass', 'image': 'https://media.api-sports.io/football/venues/556.png'}}, {'team': {'id': 34, 'name': 'Newcastle', 'code': 'NEW', 'country': 'England', 'founded': 1892, 'national': False, 'logo': 'https://media.api-sports.io/football/teams/34.png'}, 'venue': {'id': 562, 'name': \"St. James' Park\", 'address': 'St. James&apos; Street', 'city': 'Newcastle upon Tyne', 'capacity': 52758, 'surface': 'grass', 'image': 'https://media.api-sports.io/football/venues/562.png'}}, {'team': {'id': 35, 'name': 'Bournemouth', 'code': 'BOU', 'country': 'England', 'founded': 1899, 'national': False, 'logo': 'https://media.api-sports.io/football/teams/35.png'}, 'venue': {'id': 504, 'name': 'Vitality Stadium', 'address': 'Dean Court, Kings Park', 'city': 'Bournemouth, Dorset', 'capacity': 12000, 'surface': 'grass', 'image': 'https://media.api-sports.io/football/venues/504.png'}}, {'team': {'id': 36, 'name': 'Fulham', 'code': 'FUL', 'country': 'England', 'founded': 1879, 'national': False, 'logo': 'https://media.api-sports.io/football/teams/36.png'}, 'venue': {'id': 535, 'name': 'Craven Cottage', 'address': 'Stevenage Road', 'city': 'London', 'capacity': 29589, 'surface': 'grass', 'image': 'https://media.api-sports.io/football/venues/535.png'}}, {'team': {'id': 39, 'name': 'Wolves', 'code': 'WOL', 'country': 'England', 'founded': 1877, 'national': False, 'logo': 'https://media.api-sports.io/football/teams/39.png'}, 'venue': {'id': 600, 'name': 'Molineux Stadium', 'address': 'Waterloo Road', 'city': 'Wolverhampton, West Midlands', 'capacity': 34624, 'surface': 'grass', 'image': 'https://media.api-sports.io/football/venues/600.png'}}, {'team': {'id': 40, 'name': 'Liverpool', 'code': 'LIV', 'country': 'England', 'founded': 1892, 'national': False, 'logo': 'https://media.api-sports.io/football/teams/40.png'}, 'venue': {'id': 550, 'name': 'Anfield', 'address': 'Anfield Road', 'city': 'Liverpool', 'capacity': 61276, 'surface': 'grass', 'image': 'https://media.api-sports.io/football/venues/550.png'}}, {'team': {'id': 42, 'name': 'Arsenal', 'code': 'ARS', 'country': 'England', 'founded': 1886, 'national': False, 'logo': 'https://media.api-sports.io/football/teams/42.png'}, 'venue': {'id': 494, 'name': 'Emirates Stadium', 'address': 'Hornsey Road', 'city': 'London', 'capacity': 60383, 'surface': 'grass', 'image': 'https://media.api-sports.io/football/venues/494.png'}}, {'team': {'id': 44, 'name': 'Burnley', 'code': 'BUR', 'country': 'England', 'founded': 1882, 'national': False, 'logo': 'https://media.api-sports.io/football/teams/44.png'}, 'venue': {'id': 512, 'name': 'Turf Moor', 'address': 'Harry Potts Way', 'city': 'Burnley', 'capacity': 22546, 'surface': 'grass', 'image': 'https://media.api-sports.io/football/venues/512.png'}}, {'team': {'id': 45, 'name': 'Everton', 'code': 'EVE', 'country': 'England', 'founded': 1878, 'national': False, 'logo': 'https://media.api-sports.io/football/teams/45.png'}, 'venue': {'id': 22033, 'name': 'Hill Dickinson Stadium', 'address': '35 Regent Road, Bramley-Moore Dock, Vauxhall', 'city': 'Liverpool, Merseyside', 'capacity': 52888, 'surface': 'grass', 'image': 'https://media.api-sports.io/football/venues/22033.png'}}, {'team': {'id': 47, 'name': 'Tottenham', 'code': 'TOT', 'country': 'England', 'founded': 1882, 'national': False, 'logo': 'https://media.api-sports.io/football/teams/47.png'}, 'venue': {'id': 593, 'name': 'Tottenham Hotspur Stadium', 'address': 'Bill Nicholson Way, 748 High Road', 'city': 'London', 'capacity': 62850, 'surface': 'grass', 'image': 'https://media.api-sports.io/football/venues/593.png'}}, {'team': {'id': 48, 'name': 'West Ham', 'code': 'WES', 'country': 'England', 'founded': 1895, 'national': False, 'logo': 'https://media.api-sports.io/football/teams/48.png'}, 'venue': {'id': 598, 'name': 'London Stadium', 'address': 'Marshgate Lane, Stratford', 'city': 'London', 'capacity': 64472, 'surface': 'grass', 'image': 'https://media.api-sports.io/football/venues/598.png'}}, {'team': {'id': 49, 'name': 'Chelsea', 'code': 'CHE', 'country': 'England', 'founded': 1905, 'national': False, 'logo': 'https://media.api-sports.io/football/teams/49.png'}, 'venue': {'id': 519, 'name': 'Stamford Bridge', 'address': 'Fulham Road', 'city': 'London', 'capacity': 41841, 'surface': 'grass', 'image': 'https://media.api-sports.io/football/venues/519.png'}}, {'team': {'id': 50, 'name': 'Manchester City', 'code': 'MAC', 'country': 'England', 'founded': 1880, 'national': False, 'logo': 'https://media.api-sports.io/football/teams/50.png'}, 'venue': {'id': 555, 'name': 'Etihad Stadium', 'address': 'Rowsley Street', 'city': 'Manchester', 'capacity': 55097, 'surface': 'grass', 'image': 'https://media.api-sports.io/football/venues/555.png'}}, {'team': {'id': 51, 'name': 'Brighton', 'code': 'BRI', 'country': 'England', 'founded': 1901, 'national': False, 'logo': 'https://media.api-sports.io/football/teams/51.png'}, 'venue': {'id': 508, 'name': 'American Express Stadium', 'address': 'Village Way', 'city': 'Falmer, East Sussex', 'capacity': 31872, 'surface': 'grass', 'image': 'https://media.api-sports.io/football/venues/508.png'}}, {'team': {'id': 52, 'name': 'Crystal Palace', 'code': 'CRY', 'country': 'England', 'founded': 1861, 'national': False, 'logo': 'https://media.api-sports.io/football/teams/52.png'}, 'venue': {'id': 525, 'name': 'Selhurst Park', 'address': 'Holmesdale Road', 'city': 'London', 'capacity': 26309, 'surface': 'grass', 'image': 'https://media.api-sports.io/football/venues/525.png'}}, {'team': {'id': 55, 'name': 'Brentford', 'code': 'BRE', 'country': 'England', 'founded': 1889, 'national': False, 'logo': 'https://media.api-sports.io/football/teams/55.png'}, 'venue': {'id': 10503, 'name': 'Gtech Community Stadium', 'address': '166 Lionel Rd N, Brentford', 'city': 'Brentford, Middlesex', 'capacity': 17250, 'surface': 'grass', 'image': 'https://media.api-sports.io/football/venues/10503.png'}}, {'team': {'id': 62, 'name': 'Sheffield Utd', 'code': 'SHE', 'country': 'England', 'founded': 1889, 'national': False, 'logo': 'https://media.api-sports.io/football/teams/62.png'}, 'venue': {'id': 581, 'name': 'Bramall Lane', 'address': 'Bramall Lane', 'city': 'Sheffield', 'capacity': 32702, 'surface': 'grass', 'image': 'https://media.api-sports.io/football/venues/581.png'}}, {'team': {'id': 65, 'name': 'Nottingham Forest', 'code': 'NOT', 'country': 'England', 'founded': 1865, 'national': False, 'logo': 'https://media.api-sports.io/football/teams/65.png'}, 'venue': {'id': 566, 'name': 'The City Ground', 'address': 'Pavilion Road', 'city': 'Nottingham, Nottinghamshire', 'capacity': 30576, 'surface': 'grass', 'image': 'https://media.api-sports.io/football/venues/566.png'}}, {'team': {'id': 66, 'name': 'Aston Villa', 'code': 'AST', 'country': 'England', 'founded': 1874, 'national': False, 'logo': 'https://media.api-sports.io/football/teams/66.png'}, 'venue': {'id': 495, 'name': 'Villa Park', 'address': 'Trinity Road', 'city': 'Birmingham', 'capacity': 42824, 'surface': 'grass', 'image': 'https://media.api-sports.io/football/venues/495.png'}}, {'team': {'id': 1359, 'name': 'Luton', 'code': 'LUT', 'country': 'England', 'founded': 1885, 'national': False, 'logo': 'https://media.api-sports.io/football/teams/1359.png'}, 'venue': {'id': 551, 'name': 'Kenilworth Road', 'address': '1 Maple Road', 'city': 'Luton, Bedfordshire', 'capacity': 11500, 'surface': 'grass', 'image': 'https://media.api-sports.io/football/venues/551.png'}}]\n",
            "{'team': {'id': 33, 'name': 'Manchester United', 'code': 'MUN', 'country': 'England', 'founded': 1878, 'national': False, 'logo': 'https://media.api-sports.io/football/teams/33.png'}, 'venue': {'id': 556, 'name': 'Old Trafford', 'address': 'Sir Matt Busby Way', 'city': 'Manchester', 'capacity': 76212, 'surface': 'grass', 'image': 'https://media.api-sports.io/football/venues/556.png'}}\n",
            "{'team': {'id': 34, 'name': 'Newcastle', 'code': 'NEW', 'country': 'England', 'founded': 1892, 'national': False, 'logo': 'https://media.api-sports.io/football/teams/34.png'}, 'venue': {'id': 562, 'name': \"St. James' Park\", 'address': 'St. James&apos; Street', 'city': 'Newcastle upon Tyne', 'capacity': 52758, 'surface': 'grass', 'image': 'https://media.api-sports.io/football/venues/562.png'}}\n",
            "{'team': {'id': 35, 'name': 'Bournemouth', 'code': 'BOU', 'country': 'England', 'founded': 1899, 'national': False, 'logo': 'https://media.api-sports.io/football/teams/35.png'}, 'venue': {'id': 504, 'name': 'Vitality Stadium', 'address': 'Dean Court, Kings Park', 'city': 'Bournemouth, Dorset', 'capacity': 12000, 'surface': 'grass', 'image': 'https://media.api-sports.io/football/venues/504.png'}}\n",
            "{'team': {'id': 36, 'name': 'Fulham', 'code': 'FUL', 'country': 'England', 'founded': 1879, 'national': False, 'logo': 'https://media.api-sports.io/football/teams/36.png'}, 'venue': {'id': 535, 'name': 'Craven Cottage', 'address': 'Stevenage Road', 'city': 'London', 'capacity': 29589, 'surface': 'grass', 'image': 'https://media.api-sports.io/football/venues/535.png'}}\n",
            "{'team': {'id': 39, 'name': 'Wolves', 'code': 'WOL', 'country': 'England', 'founded': 1877, 'national': False, 'logo': 'https://media.api-sports.io/football/teams/39.png'}, 'venue': {'id': 600, 'name': 'Molineux Stadium', 'address': 'Waterloo Road', 'city': 'Wolverhampton, West Midlands', 'capacity': 34624, 'surface': 'grass', 'image': 'https://media.api-sports.io/football/venues/600.png'}}\n",
            "{'team': {'id': 40, 'name': 'Liverpool', 'code': 'LIV', 'country': 'England', 'founded': 1892, 'national': False, 'logo': 'https://media.api-sports.io/football/teams/40.png'}, 'venue': {'id': 550, 'name': 'Anfield', 'address': 'Anfield Road', 'city': 'Liverpool', 'capacity': 61276, 'surface': 'grass', 'image': 'https://media.api-sports.io/football/venues/550.png'}}\n",
            "{'team': {'id': 42, 'name': 'Arsenal', 'code': 'ARS', 'country': 'England', 'founded': 1886, 'national': False, 'logo': 'https://media.api-sports.io/football/teams/42.png'}, 'venue': {'id': 494, 'name': 'Emirates Stadium', 'address': 'Hornsey Road', 'city': 'London', 'capacity': 60383, 'surface': 'grass', 'image': 'https://media.api-sports.io/football/venues/494.png'}}\n",
            "{'team': {'id': 44, 'name': 'Burnley', 'code': 'BUR', 'country': 'England', 'founded': 1882, 'national': False, 'logo': 'https://media.api-sports.io/football/teams/44.png'}, 'venue': {'id': 512, 'name': 'Turf Moor', 'address': 'Harry Potts Way', 'city': 'Burnley', 'capacity': 22546, 'surface': 'grass', 'image': 'https://media.api-sports.io/football/venues/512.png'}}\n",
            "{'team': {'id': 45, 'name': 'Everton', 'code': 'EVE', 'country': 'England', 'founded': 1878, 'national': False, 'logo': 'https://media.api-sports.io/football/teams/45.png'}, 'venue': {'id': 22033, 'name': 'Hill Dickinson Stadium', 'address': '35 Regent Road, Bramley-Moore Dock, Vauxhall', 'city': 'Liverpool, Merseyside', 'capacity': 52888, 'surface': 'grass', 'image': 'https://media.api-sports.io/football/venues/22033.png'}}\n",
            "{'team': {'id': 47, 'name': 'Tottenham', 'code': 'TOT', 'country': 'England', 'founded': 1882, 'national': False, 'logo': 'https://media.api-sports.io/football/teams/47.png'}, 'venue': {'id': 593, 'name': 'Tottenham Hotspur Stadium', 'address': 'Bill Nicholson Way, 748 High Road', 'city': 'London', 'capacity': 62850, 'surface': 'grass', 'image': 'https://media.api-sports.io/football/venues/593.png'}}\n",
            "{'team': {'id': 48, 'name': 'West Ham', 'code': 'WES', 'country': 'England', 'founded': 1895, 'national': False, 'logo': 'https://media.api-sports.io/football/teams/48.png'}, 'venue': {'id': 598, 'name': 'London Stadium', 'address': 'Marshgate Lane, Stratford', 'city': 'London', 'capacity': 64472, 'surface': 'grass', 'image': 'https://media.api-sports.io/football/venues/598.png'}}\n",
            "{'team': {'id': 49, 'name': 'Chelsea', 'code': 'CHE', 'country': 'England', 'founded': 1905, 'national': False, 'logo': 'https://media.api-sports.io/football/teams/49.png'}, 'venue': {'id': 519, 'name': 'Stamford Bridge', 'address': 'Fulham Road', 'city': 'London', 'capacity': 41841, 'surface': 'grass', 'image': 'https://media.api-sports.io/football/venues/519.png'}}\n",
            "{'team': {'id': 50, 'name': 'Manchester City', 'code': 'MAC', 'country': 'England', 'founded': 1880, 'national': False, 'logo': 'https://media.api-sports.io/football/teams/50.png'}, 'venue': {'id': 555, 'name': 'Etihad Stadium', 'address': 'Rowsley Street', 'city': 'Manchester', 'capacity': 55097, 'surface': 'grass', 'image': 'https://media.api-sports.io/football/venues/555.png'}}\n",
            "{'team': {'id': 51, 'name': 'Brighton', 'code': 'BRI', 'country': 'England', 'founded': 1901, 'national': False, 'logo': 'https://media.api-sports.io/football/teams/51.png'}, 'venue': {'id': 508, 'name': 'American Express Stadium', 'address': 'Village Way', 'city': 'Falmer, East Sussex', 'capacity': 31872, 'surface': 'grass', 'image': 'https://media.api-sports.io/football/venues/508.png'}}\n",
            "{'team': {'id': 52, 'name': 'Crystal Palace', 'code': 'CRY', 'country': 'England', 'founded': 1861, 'national': False, 'logo': 'https://media.api-sports.io/football/teams/52.png'}, 'venue': {'id': 525, 'name': 'Selhurst Park', 'address': 'Holmesdale Road', 'city': 'London', 'capacity': 26309, 'surface': 'grass', 'image': 'https://media.api-sports.io/football/venues/525.png'}}\n",
            "{'team': {'id': 55, 'name': 'Brentford', 'code': 'BRE', 'country': 'England', 'founded': 1889, 'national': False, 'logo': 'https://media.api-sports.io/football/teams/55.png'}, 'venue': {'id': 10503, 'name': 'Gtech Community Stadium', 'address': '166 Lionel Rd N, Brentford', 'city': 'Brentford, Middlesex', 'capacity': 17250, 'surface': 'grass', 'image': 'https://media.api-sports.io/football/venues/10503.png'}}\n",
            "{'team': {'id': 62, 'name': 'Sheffield Utd', 'code': 'SHE', 'country': 'England', 'founded': 1889, 'national': False, 'logo': 'https://media.api-sports.io/football/teams/62.png'}, 'venue': {'id': 581, 'name': 'Bramall Lane', 'address': 'Bramall Lane', 'city': 'Sheffield', 'capacity': 32702, 'surface': 'grass', 'image': 'https://media.api-sports.io/football/venues/581.png'}}\n",
            "{'team': {'id': 65, 'name': 'Nottingham Forest', 'code': 'NOT', 'country': 'England', 'founded': 1865, 'national': False, 'logo': 'https://media.api-sports.io/football/teams/65.png'}, 'venue': {'id': 566, 'name': 'The City Ground', 'address': 'Pavilion Road', 'city': 'Nottingham, Nottinghamshire', 'capacity': 30576, 'surface': 'grass', 'image': 'https://media.api-sports.io/football/venues/566.png'}}\n",
            "{'team': {'id': 66, 'name': 'Aston Villa', 'code': 'AST', 'country': 'England', 'founded': 1874, 'national': False, 'logo': 'https://media.api-sports.io/football/teams/66.png'}, 'venue': {'id': 495, 'name': 'Villa Park', 'address': 'Trinity Road', 'city': 'Birmingham', 'capacity': 42824, 'surface': 'grass', 'image': 'https://media.api-sports.io/football/venues/495.png'}}\n",
            "{'team': {'id': 1359, 'name': 'Luton', 'code': 'LUT', 'country': 'England', 'founded': 1885, 'national': False, 'logo': 'https://media.api-sports.io/football/teams/1359.png'}, 'venue': {'id': 551, 'name': 'Kenilworth Road', 'address': '1 Maple Road', 'city': 'Luton, Bedfordshire', 'capacity': 11500, 'surface': 'grass', 'image': 'https://media.api-sports.io/football/venues/551.png'}}\n",
            "Manchester United: 9 goals\n",
            "Newcastle: 0 goals\n",
            "Bournemouth: 6 goals\n",
            "Fulham: 0 goals\n",
            "Wolves: 0 goals\n",
            "Liverpool: 0 goals\n",
            "Arsenal: 0 goals\n",
            "Burnley: 0 goals\n",
            "Everton: 0 goals\n",
            "Tottenham: 0 goals\n",
            "West Ham: 0 goals\n",
            "Chelsea: 0 goals\n",
            "Manchester City: 0 goals\n",
            "Brighton: 0 goals\n",
            "Crystal Palace: 0 goals\n",
            "Brentford: 0 goals\n",
            "Sheffield Utd: 0 goals\n",
            "Nottingham Forest: 0 goals\n",
            "Aston Villa: 0 goals\n",
            "Luton: 0 goals\n"
          ]
        }
      ]
    },
    {
      "cell_type": "code",
      "source": [],
      "metadata": {
        "id": "WaLHm5OcAkXI"
      },
      "execution_count": null,
      "outputs": []
    }
  ]
}